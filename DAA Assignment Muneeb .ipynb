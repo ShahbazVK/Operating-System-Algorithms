{
 "cells": [
  {
   "cell_type": "markdown",
   "metadata": {},
   "source": [
    "# DAA ASSIGNMENT  1"
   ]
  },
  {
   "cell_type": "markdown",
   "metadata": {},
   "source": [
    "# QUESTION 1:\n",
    "### 1) Calculate the running time using Python Time module for three different algorithms for calculating the sum of first N given integers (with and without loop) as discussed in the class."
   ]
  },
  {
   "cell_type": "code",
   "execution_count": 167,
   "metadata": {},
   "outputs": [
    {
     "name": "stdout",
     "output_type": "stream",
     "text": [
      "0.000141299999995681\n",
      "8.479999996779952e-05\n",
      "6.569999914063374e-05\n"
     ]
    }
   ],
   "source": [
    "from timeit import default_timer as timer\n",
    "\n",
    "start1 = timer()\n",
    "def sumInt1(n):\n",
    "    return n*(n+1)//2\n",
    "end1 = timer()\n",
    "print(end1-start1)\n",
    "\n",
    "start2 = timer()\n",
    "def sumInt2(arr):\n",
    "    result = 0\n",
    "    for i in arr:\n",
    "        result+=i\n",
    "    return result\n",
    "end2 = timer()\n",
    "print(end2-start2)\n",
    "\n",
    "\n",
    "start3 = timer()\n",
    "def sumInt3(n):\n",
    "    return sum(n)\n",
    "end3 = timer()\n",
    "print(end3-start3)\n",
    "\n"
   ]
  },
  {
   "cell_type": "markdown",
   "metadata": {},
   "source": [
    "# QUESTiON 2:\n",
    "### 2) Write two Python functions to find the minimum number in a list. \n",
    "\n",
    "### The first function should compare each number to every other number on the list O(n2). \n",
    "\n",
    "### The second function should be linear O(n).\n",
    "### Calculate the running time using Python Time module"
   ]
  },
  {
   "cell_type": "code",
   "execution_count": 174,
   "metadata": {},
   "outputs": [
    {
     "name": "stdout",
     "output_type": "stream",
     "text": [
      "The execution time of function with O(n2) is 0.00016489999961777357 \n",
      "The execution time of function with O(n) is 0.00012320000041654566 \n"
     ]
    }
   ],
   "source": [
    "import time\n",
    "from timeit import default_timer as timer\n",
    "start1 = timer()\n",
    "def minNum1(array):\n",
    "    mini = array[0]\n",
    "    for i in array:\n",
    "        for j in array:\n",
    "            if mini > i :\n",
    "                mini =j\n",
    "    return mini\n",
    "arr = [6,8,9,2,4,12,7,11,1,3,2]\n",
    "ans = minNum1(arr)\n",
    "end1 = timer()\n",
    "exetime1 = end1 - start1\n",
    "print(f\"The execution time of function with O(n2) is {exetime1} \")\n",
    "\n",
    "\n",
    "\n",
    "start2 = timer()\n",
    "def minNum2(array):\n",
    "    mini = array[0]\n",
    "    for i in range(len(array)):\n",
    "        if array[i] < mini:\n",
    "            mini = array[i]\n",
    "    return mini\n",
    "    \n",
    "ans2 = minNum2(arr)\n",
    "end2 = timer()\n",
    "exetime2 = end2 - start2\n",
    "print(f\"The execution time of function with O(n) is {exetime2} \")"
   ]
  },
  {
   "cell_type": "markdown",
   "metadata": {},
   "source": [
    "# QUESTiON 3: \n",
    "### 3) Design and implement the four different algorithms of Anagram Detection and calculate the running time using Python Time module"
   ]
  },
  {
   "cell_type": "markdown",
   "metadata": {},
   "source": [
    "## Algo 1: check to see that each character in the first string actually occurs in the second. "
   ]
  },
  {
   "cell_type": "code",
   "execution_count": 87,
   "metadata": {},
   "outputs": [
    {
     "name": "stdout",
     "output_type": "stream",
     "text": [
      "0.00042660000053729163\n"
     ]
    }
   ],
   "source": [
    "from timeit import default_timer as timer\n",
    "start1 = timer()\n",
    "def AnagramDetector1(s1,s2):\n",
    "    c = 0\n",
    "    isEqual =True if  len(s1)==len(s2) else False\n",
    "    if(isEqual):\n",
    "        for i in s1:\n",
    "            for j in s2:\n",
    "                if i == j :\n",
    "                    c+=1\n",
    "                    isEqual = True\n",
    "    else:\n",
    "        raise Exception('Strings must be of equal length!')\n",
    "    return \"it is an anagram\" if isEqual else  \"not an anagram\"\n",
    "s1 = 'heart'\n",
    "s2 = 'earth'\n",
    "ans = AnagramDetector1(s1,s2)\n",
    "end1 = timer()\n",
    "print(end1 - start1)"
   ]
  },
  {
   "cell_type": "markdown",
   "metadata": {},
   "source": [
    "## Algo 2: Sort and Compare"
   ]
  },
  {
   "cell_type": "code",
   "execution_count": 179,
   "metadata": {},
   "outputs": [
    {
     "data": {
      "text/plain": [
       "True"
      ]
     },
     "execution_count": 179,
     "metadata": {},
     "output_type": "execute_result"
    }
   ],
   "source": [
    "def AnagramDetector2(s1,s2):\n",
    "    isValid = True if  len(s1)==len(s2) else False\n",
    "    l1 = sorted(list(s1))\n",
    "    l2 = sorted(list(s2))\n",
    "    isAnagram = False\n",
    "    if(isValid):\n",
    "        for i in range(len(s1)):\n",
    "            if l1[i] == l2[i]:\n",
    "                isAnagram = True\n",
    "            else:\n",
    "                isAnagram = False \n",
    "                break\n",
    "    \n",
    "    else:\n",
    "        raise Exception('Strings must be of equal length')\n",
    "    return isAnagram\n",
    "AnagramDetector2('heart','aerth')\n"
   ]
  },
  {
   "cell_type": "markdown",
   "metadata": {},
   "source": [
    "## Algo 3: Brute Force"
   ]
  },
  {
   "cell_type": "code",
   "execution_count": 36,
   "metadata": {},
   "outputs": [],
   "source": [
    "from itertools import chain, product\n",
    "def bruteforce(charset, maxlength):\n",
    "    return (''.join(candidate)\n",
    "        for candidate in chain.from_iterable(product(charset, repeat=i)\n",
    "        for i in range(1, maxlength + 1)))\n",
    "\n",
    "a = list(bruteforce('earth',2))\n",
    "b = list(bruteforce('heart',2))\n",
    "\n"
   ]
  },
  {
   "cell_type": "markdown",
   "metadata": {},
   "source": [
    "## Algo 4: Count and Compare"
   ]
  },
  {
   "cell_type": "code",
   "execution_count": 1,
   "metadata": {},
   "outputs": [
    {
     "name": "stdout",
     "output_type": "stream",
     "text": [
      "True\n"
     ]
    }
   ],
   "source": [
    "def AnagramDetector4(s1,s2):\n",
    "    isValid = True if  len(s1)==len(s2) else False\n",
    "    string1 = {}\n",
    "    string2 = {}\n",
    "    if(isValid):\n",
    "        for i in s1:\n",
    "            if i not in string1.keys():\n",
    "                string1[i] = 1\n",
    "            else:\n",
    "                string1[i]+=1\n",
    "        for j in s2:\n",
    "            if j not in string2.keys():\n",
    "                string2[j.lower()] = 1\n",
    "            else:\n",
    "                string2[j.lower()]+=1\n",
    "    else:\n",
    "         raise Exception('Strings must be of equal length!')\n",
    "        \n",
    "    if string1 == string2:\n",
    "        return True\n",
    "    else:\n",
    "        return False\n",
    "\n",
    "ans = AnagramDetector4('goman','Mango')\n",
    "print(ans)"
   ]
  }
 ],
 "metadata": {
  "interpreter": {
   "hash": "8fdec81105d70591aa132cebc822505eff26d66e6ca239a318fe726eb0e72bd0"
  },
  "kernelspec": {
   "display_name": "Python 3.9.6 64-bit",
   "name": "python3"
  },
  "language_info": {
   "codemirror_mode": {
    "name": "ipython",
    "version": 3
   },
   "file_extension": ".py",
   "mimetype": "text/x-python",
   "name": "python",
   "nbconvert_exporter": "python",
   "pygments_lexer": "ipython3",
   "version": "3.10.0"
  },
  "orig_nbformat": 4
 },
 "nbformat": 4,
 "nbformat_minor": 2
}
